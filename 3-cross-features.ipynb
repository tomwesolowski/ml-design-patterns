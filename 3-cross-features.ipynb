{
 "cells": [
  {
   "cell_type": "code",
   "execution_count": 62,
   "id": "46d716b1-7782-4de7-96e7-f79f47ed4053",
   "metadata": {},
   "outputs": [],
   "source": [
    "import matplotlib.pyplot as plt\n",
    "import numpy as np\n",
    "import pandas as pd\n",
    "\n",
    "from sklearn import datasets\n",
    "from sklearn.linear_model import LogisticRegression\n",
    "from sklearn.model_selection import train_test_split"
   ]
  },
  {
   "cell_type": "code",
   "execution_count": 46,
   "id": "b27208c2-fc78-4725-86bd-f8bd0d8c810e",
   "metadata": {},
   "outputs": [],
   "source": [
    "seed = 0"
   ]
  },
  {
   "cell_type": "code",
   "execution_count": 44,
   "id": "348457f6-a377-44c0-a0fe-78d8e04b10e6",
   "metadata": {},
   "outputs": [],
   "source": [
    "# import some data to play with\n",
    "iris = datasets.load_iris()\n",
    "\n",
    "iris_raw_columns_names = [\n",
    "    'sepal_length', \n",
    "    'sepal_width',\n",
    "    'petal_length',\n",
    "    'petal_width'\n",
    "]\n",
    "df = pd.DataFrame(\n",
    "    iris.data,\n",
    "    columns=iris_raw_columns_names                 \n",
    ")\n",
    "df.loc[:, 'target'] = iris.target"
   ]
  },
  {
   "cell_type": "code",
   "execution_count": 79,
   "id": "b41883b8-fd82-479c-bc9d-733004fd627d",
   "metadata": {},
   "outputs": [],
   "source": [
    "x_train, x_test, y_train, y_test = train_test_split(iris.data, \n",
    "                                                    iris.target, \n",
    "                                                    test_size = 0.5, \n",
    "                                                    random_state = seed)"
   ]
  },
  {
   "cell_type": "code",
   "execution_count": 80,
   "id": "bb1698d7-88e8-4616-be6b-e843ccdcd29a",
   "metadata": {},
   "outputs": [
    {
     "data": {
      "text/plain": [
       "LogisticRegression(max_iter=1000, random_state=0)"
      ]
     },
     "execution_count": 80,
     "metadata": {},
     "output_type": "execute_result"
    }
   ],
   "source": [
    "clf = LogisticRegression(random_state=0, max_iter=1000)\n",
    "clf.fit(x_train, y_train)"
   ]
  },
  {
   "cell_type": "code",
   "execution_count": 81,
   "id": "b8a66213-597d-4187-b9d3-ae97c486947f",
   "metadata": {},
   "outputs": [
    {
     "data": {
      "text/plain": [
       "0.9733333333333334"
      ]
     },
     "execution_count": 81,
     "metadata": {},
     "output_type": "execute_result"
    }
   ],
   "source": [
    "clf.score(x_train, y_train)"
   ]
  },
  {
   "cell_type": "code",
   "execution_count": 82,
   "id": "44ebd8b2-883b-444f-b394-a0f6225eb1df",
   "metadata": {},
   "outputs": [
    {
     "data": {
      "text/plain": [
       "0.9333333333333333"
      ]
     },
     "execution_count": 82,
     "metadata": {},
     "output_type": "execute_result"
    }
   ],
   "source": [
    "clf.score(x_test, y_test)"
   ]
  },
  {
   "cell_type": "code",
   "execution_count": 90,
   "id": "6e82298f-7cfc-4a67-9342-99306543e5e3",
   "metadata": {},
   "outputs": [],
   "source": [
    "def prepare_data(x):\n",
    "    # prepare product of length and width (area) cross features\n",
    "    sepal_area = np.prod(x[:, :2], axis=1, keepdims=True)\n",
    "    petal_area = np.prod(x[:, 2:4], axis=1, keepdims=True)\n",
    "    return np.concatenate((x, sepal_area, petal_area), axis=1)"
   ]
  },
  {
   "cell_type": "code",
   "execution_count": 87,
   "id": "dfbdab98-1cf3-4395-b30e-9734ce2218dd",
   "metadata": {},
   "outputs": [
    {
     "data": {
      "text/plain": [
       "LogisticRegression(max_iter=1000, random_state=0)"
      ]
     },
     "execution_count": 87,
     "metadata": {},
     "output_type": "execute_result"
    }
   ],
   "source": [
    "clf2 = LogisticRegression(random_state=0, max_iter=1000)\n",
    "clf2.fit(prepare_data(x_train), y_train)"
   ]
  },
  {
   "cell_type": "code",
   "execution_count": 88,
   "id": "6d04fb89-8d1a-4026-8bb5-573a8e336c66",
   "metadata": {},
   "outputs": [
    {
     "data": {
      "text/plain": [
       "0.9866666666666667"
      ]
     },
     "execution_count": 88,
     "metadata": {},
     "output_type": "execute_result"
    }
   ],
   "source": [
    "clf2.score(prepare_data(x_train), y_train)"
   ]
  },
  {
   "cell_type": "code",
   "execution_count": 89,
   "id": "d165a294-e57a-4d45-89a9-8dc54c5848e9",
   "metadata": {},
   "outputs": [
    {
     "data": {
      "text/plain": [
       "0.9466666666666667"
      ]
     },
     "execution_count": 89,
     "metadata": {},
     "output_type": "execute_result"
    }
   ],
   "source": [
    "clf2.score(prepare_data(x_test), y_test)"
   ]
  },
  {
   "cell_type": "code",
   "execution_count": null,
   "id": "99fc1979-0ef3-469a-8d36-c4f8ab1811f9",
   "metadata": {},
   "outputs": [],
   "source": []
  }
 ],
 "metadata": {
  "kernelspec": {
   "display_name": "Python 3 (ipykernel)",
   "language": "python",
   "name": "python3"
  },
  "language_info": {
   "codemirror_mode": {
    "name": "ipython",
    "version": 3
   },
   "file_extension": ".py",
   "mimetype": "text/x-python",
   "name": "python",
   "nbconvert_exporter": "python",
   "pygments_lexer": "ipython3",
   "version": "3.9.5"
  }
 },
 "nbformat": 4,
 "nbformat_minor": 5
}
